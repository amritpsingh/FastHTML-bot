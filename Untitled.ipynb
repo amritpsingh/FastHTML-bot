{
 "cells": [
  {
   "cell_type": "code",
   "execution_count": 5,
   "id": "fd8ebb97-80a8-4131-b43e-f8ed347d549e",
   "metadata": {},
   "outputs": [],
   "source": [
    "import os\n",
    "import requests\n",
    "from pathlib import Path\n",
    "from bs4 import BeautifulSoup\n",
    "from urllib.parse import urljoin\n",
    "from tenacity import retry, stop_after_attempt, wait_fixed"
   ]
  },
  {
   "cell_type": "code",
   "execution_count": 2,
   "id": "a979aa7f-cc02-434e-a03c-06fccf23bb6a",
   "metadata": {},
   "outputs": [],
   "source": [
    "# Set the output directory\n",
    "data_dir = 'data/raw-data'\n",
    "os.makedirs(data_dir, exist_ok=True)"
   ]
  },
  {
   "cell_type": "code",
   "execution_count": 20,
   "id": "994478f9-0e26-49b2-aea0-5d5f8e0fb96b",
   "metadata": {},
   "outputs": [],
   "source": [
    "# Set to keep track of downloaded URLs\n",
    "downloaded_urls = set()\n",
    "\n",
    "# Retry configuration\n",
    "@retry(stop=stop_after_attempt(3), wait=wait_fixed(2))\n",
    "def fetch_url(url):\n",
    "    response = requests.get(url)\n",
    "    response.raise_for_status()\n",
    "    return response\n",
    "\n",
    "# Function to download a page\n",
    "def download_page(url, output_dir):\n",
    "    if url in downloaded_urls:\n",
    "        return\n",
    "    downloaded_urls.add(url)\n",
    "    \n",
    "    try:\n",
    "        response = fetch_url(url)\n",
    "    except requests.exceptions.RequestException as e:\n",
    "        print(f'Failed to download: {url} due to {e}')\n",
    "        return\n",
    "    \n",
    "    soup = BeautifulSoup(response.text, 'html.parser')\n",
    "    # Save the HTML file\n",
    "    file_name = url.split('/')[-1] or 'index.html'\n",
    "    file_path = os.path.join(output_dir, file_name)\n",
    "    with open(file_path, 'w', encoding='utf-8') as file:\n",
    "        file.write(soup.prettify())\n",
    "    print(f'Downloaded: {url}')\n",
    "    \n",
    "    # Find and download all linked pages\n",
    "    for link in soup.find_all('a', href=True):\n",
    "        link_url = urljoin(url, link['href'])\n",
    "        if link_url.startswith(base_url) and link_url.endswith('.html'):\n",
    "            download_page(link_url, output_dir)"
   ]
  },
  {
   "cell_type": "code",
   "execution_count": 21,
   "id": "b106a4f9-c345-45bb-aa77-fe004bd7cf2c",
   "metadata": {
    "scrolled": true
   },
   "outputs": [
    {
     "name": "stdout",
     "output_type": "stream",
     "text": [
      "Downloaded: https://docs.fastht.ml/\n",
      "Downloaded: https://docs.fastht.ml/index.html\n",
      "Downloaded: https://docs.fastht.ml/tutorials/index.html\n",
      "Downloaded: https://docs.fastht.ml/tutorials/by_example.html\n",
      "Downloaded: https://docs.fastht.ml/tutorials/quickstart_for_web_devs.html\n",
      "Downloaded: https://docs.fastht.ml/tutorials/e2e.html\n",
      "Downloaded: https://docs.fastht.ml/tutorials/tutorial_for_web_devs.html\n",
      "Downloaded: https://docs.fastht.ml/explains/explaining_xt_components.html\n",
      "Downloaded: https://docs.fastht.ml/explains/faq.html\n",
      "Downloaded: https://docs.fastht.ml/explains/oauth.html\n",
      "Downloaded: https://docs.fastht.ml/explains/routes.html\n",
      "Downloaded: https://docs.fastht.ml/ref/defining_xt_component.html\n",
      "Downloaded: https://docs.fastht.ml/ref/live_reload.html\n",
      "Downloaded: https://docs.fastht.ml/api/core.html\n",
      "Downloaded: https://docs.fastht.ml/api/components.html\n",
      "Downloaded: https://docs.fastht.ml/api/xtend.html\n",
      "Downloaded: https://docs.fastht.ml/api/js.html\n",
      "Downloaded: https://docs.fastht.ml/api/pico.html\n",
      "Downloaded: https://docs.fastht.ml/api/oauth.html\n",
      "Downloaded: https://docs.fastht.ml/api/cli.html\n",
      "Downloaded: https://docs.fastht.ml/api/fastapp.html\n"
     ]
    }
   ],
   "source": [
    "# Base URL\n",
    "base_url = 'https://docs.fastht.ml/'\n",
    "\n",
    "# Start downloading from the base URL\n",
    "download_page(base_url, data_dir)\n"
   ]
  },
  {
   "cell_type": "markdown",
   "id": "5fe4dc92-89d0-4a02-8169-cd8c5cf76951",
   "metadata": {},
   "source": [
    "#### Using `aiohttp` for Asynchronous Downloads\n",
    "Using asynchronous requests can significantly speed up the downloading process. The aiohttp library allows you to perform asynchronous HTTP requests. Here’s an example of how you can use it:"
   ]
  },
  {
   "cell_type": "code",
   "execution_count": null,
   "id": "7913182b-c12e-48e2-9eb8-df263350965c",
   "metadata": {},
   "outputs": [],
   "source": [
    "import aiohttp\n",
    "import asyncio\n",
    "\n",
    "# Set to keep track of downloaded URLs\n",
    "downloaded_urls = set()\n",
    "\n",
    "async def fetch(session, url):\n",
    "    async with session.get(url) as response:\n",
    "        return await response.text()\n",
    "\n",
    "async def download_page(session, url, output_dir):\n",
    "    if url in downloaded_urls:\n",
    "        return\n",
    "    downloaded_urls.add(url)\n",
    "    \n",
    "    try:\n",
    "        html = await fetch(session, url)\n",
    "    except Exception as e:\n",
    "        print(f'Failed to download: {url} due to {e}')\n",
    "        return\n",
    "    \n",
    "    soup = BeautifulSoup(html, 'html.parser')\n",
    "    # Save the HTML file\n",
    "    file_name = url.split('/')[-1] or 'index.html'\n",
    "    file_path = os.path.join(output_dir, file_name)\n",
    "    with open(file_path, 'w', encoding='utf-8') as file:\n",
    "        file.write(soup.prettify())\n",
    "    print(f'Downloaded: {url}')\n",
    "    \n",
    "    # Find and download all linked pages\n",
    "    tasks = []\n",
    "    for link in soup.find_all('a', href=True):\n",
    "        link_url = urljoin(url, link['href'])\n",
    "        if link_url.startswith(base_url) and link_url.endswith('.html'):\n",
    "            tasks.append(download_page(session, link_url, output_dir))\n",
    "    await asyncio.gather(*tasks)\n",
    "\n",
    "async def main():\n",
    "    async with aiohttp.ClientSession() as session:\n",
    "        await download_page(session, base_url, EFS_DIR)\n",
    "\n",
    "# Run the asynchronous download\n",
    "asyncio.run(main())"
   ]
  },
  {
   "cell_type": "markdown",
   "id": "b68d3c6c-8bef-46df-8caf-2e70ef042880",
   "metadata": {},
   "source": [
    "### Create a ChromaDB Collection\n",
    "Next, we’ll use ChromaDB to store the vector embeddings of the downloaded HTML files."
   ]
  },
  {
   "cell_type": "code",
   "execution_count": 8,
   "id": "4d14536e-7e96-4338-8d7e-5d699ade5c95",
   "metadata": {},
   "outputs": [],
   "source": [
    "import chromadb\n",
    "from chromadb.config import Settings\n",
    "from chromadb.utils import embedding_functions"
   ]
  },
  {
   "cell_type": "code",
   "execution_count": 6,
   "id": "d838422f-9efe-4762-918e-5cef06c7eafc",
   "metadata": {},
   "outputs": [],
   "source": [
    "# Set the directory path\n",
    "docs_dir = Path(data_dir, \"docs.fastht.ml/\")"
   ]
  },
  {
   "cell_type": "code",
   "execution_count": 3,
   "id": "058124d9-c8de-479d-ae96-972675f0968a",
   "metadata": {},
   "outputs": [
    {
     "name": "stderr",
     "output_type": "stream",
     "text": [
      "2024-08-30 16:50:10,466\tINFO worker.py:1772 -- Started a local Ray instance. View the dashboard at \u001b[1m\u001b[32mhttp://127.0.0.1:8265 \u001b[39m\u001b[22m\n"
     ]
    },
    {
     "data": {
      "application/vnd.jupyter.widget-view+json": {
       "model_id": "02e5bbe1cf4048b5a4c1bdfb8d1ed77b",
       "version_major": 2,
       "version_minor": 0
      },
      "text/html": [
       "<div class=\"lm-Widget p-Widget lm-Panel p-Panel jp-Cell-outputWrapper\">\n",
       "    <div style=\"margin-left: 50px;display: flex;flex-direction: row;align-items: center\">\n",
       "        <div class=\"jp-RenderedHTMLCommon\" style=\"display: flex; flex-direction: row;\">\n",
       "  <svg viewBox=\"0 0 567 224\" fill=\"none\" xmlns=\"http://www.w3.org/2000/svg\" style=\"height: 3em;\">\n",
       "    <g clip-path=\"url(#clip0_4338_178347)\">\n",
       "        <path d=\"M341.29 165.561H355.29L330.13 129.051C345.63 123.991 354.21 112.051 354.21 94.2307C354.21 71.3707 338.72 58.1807 311.88 58.1807H271V165.561H283.27V131.661H311.8C314.25 131.661 316.71 131.501 319.01 131.351L341.25 165.561H341.29ZM283.29 119.851V70.0007H311.82C331.3 70.0007 342.34 78.2907 342.34 94.5507C342.34 111.271 331.34 119.861 311.82 119.861L283.29 119.851ZM451.4 138.411L463.4 165.561H476.74L428.74 58.1807H416L367.83 165.561H380.83L392.83 138.411H451.4ZM446.19 126.601H398L422 72.1407L446.24 126.601H446.19ZM526.11 128.741L566.91 58.1807H554.35L519.99 114.181L485.17 58.1807H472.44L514.01 129.181V165.541H526.13V128.741H526.11Z\" fill=\"var(--jp-ui-font-color0)\"/>\n",
       "        <path d=\"M82.35 104.44C84.0187 97.8827 87.8248 92.0678 93.1671 87.9146C98.5094 83.7614 105.083 81.5067 111.85 81.5067C118.617 81.5067 125.191 83.7614 130.533 87.9146C135.875 92.0678 139.681 97.8827 141.35 104.44H163.75C164.476 101.562 165.622 98.8057 167.15 96.2605L127.45 56.5605C121.071 60.3522 113.526 61.6823 106.235 60.3005C98.9443 58.9187 92.4094 54.9203 87.8602 49.0574C83.3109 43.1946 81.0609 35.8714 81.5332 28.4656C82.0056 21.0599 85.1679 14.0819 90.4252 8.8446C95.6824 3.60726 102.672 0.471508 110.08 0.0272655C117.487 -0.416977 124.802 1.86091 130.647 6.4324C136.493 11.0039 140.467 17.5539 141.821 24.8501C143.175 32.1463 141.816 39.6859 138 46.0505L177.69 85.7505C182.31 82.9877 187.58 81.4995 192.962 81.4375C198.345 81.3755 203.648 82.742 208.33 85.3976C213.012 88.0532 216.907 91.9029 219.616 96.5544C222.326 101.206 223.753 106.492 223.753 111.875C223.753 117.258 222.326 122.545 219.616 127.197C216.907 131.848 213.012 135.698 208.33 138.353C203.648 141.009 198.345 142.375 192.962 142.313C187.58 142.251 182.31 140.763 177.69 138L138 177.7C141.808 184.071 143.155 191.614 141.79 198.91C140.424 206.205 136.44 212.75 130.585 217.313C124.731 221.875 117.412 224.141 110.004 223.683C102.596 223.226 95.6103 220.077 90.3621 214.828C85.1139 209.58 81.9647 202.595 81.5072 195.187C81.0497 187.779 83.3154 180.459 87.878 174.605C92.4405 168.751 98.9853 164.766 106.281 163.401C113.576 162.035 121.119 163.383 127.49 167.19L167.19 127.49C165.664 124.941 164.518 122.182 163.79 119.3H141.39C139.721 125.858 135.915 131.673 130.573 135.826C125.231 139.98 118.657 142.234 111.89 142.234C105.123 142.234 98.5494 139.98 93.2071 135.826C87.8648 131.673 84.0587 125.858 82.39 119.3H60C58.1878 126.495 53.8086 132.78 47.6863 136.971C41.5641 141.163 34.1211 142.972 26.7579 142.059C19.3947 141.146 12.6191 137.574 7.70605 132.014C2.79302 126.454 0.0813599 119.29 0.0813599 111.87C0.0813599 104.451 2.79302 97.2871 7.70605 91.7272C12.6191 86.1673 19.3947 82.5947 26.7579 81.6817C34.1211 80.7686 41.5641 82.5781 47.6863 86.7696C53.8086 90.9611 58.1878 97.2456 60 104.44H82.35ZM100.86 204.32C103.407 206.868 106.759 208.453 110.345 208.806C113.93 209.159 117.527 208.258 120.522 206.256C123.517 204.254 125.725 201.276 126.771 197.828C127.816 194.38 127.633 190.677 126.253 187.349C124.874 184.021 122.383 181.274 119.205 179.577C116.027 177.88 112.359 177.337 108.826 178.042C105.293 178.746 102.113 180.654 99.8291 183.44C97.5451 186.226 96.2979 189.718 96.3 193.32C96.2985 195.364 96.7006 197.388 97.4831 199.275C98.2656 201.163 99.4132 202.877 100.86 204.32ZM204.32 122.88C206.868 120.333 208.453 116.981 208.806 113.396C209.159 109.811 208.258 106.214 206.256 103.219C204.254 100.223 201.275 98.0151 197.827 96.97C194.38 95.9249 190.676 96.1077 187.348 97.4873C184.02 98.8669 181.274 101.358 179.577 104.536C177.879 107.714 177.337 111.382 178.041 114.915C178.746 118.448 180.653 121.627 183.439 123.911C186.226 126.195 189.717 127.443 193.32 127.44C195.364 127.443 197.388 127.042 199.275 126.259C201.163 125.476 202.878 124.328 204.32 122.88ZM122.88 19.4205C120.333 16.8729 116.981 15.2876 113.395 14.9347C109.81 14.5817 106.213 15.483 103.218 17.4849C100.223 19.4868 98.0146 22.4654 96.9696 25.9131C95.9245 29.3608 96.1073 33.0642 97.4869 36.3922C98.8665 39.7202 101.358 42.4668 104.535 44.1639C107.713 45.861 111.381 46.4036 114.914 45.6992C118.447 44.9949 121.627 43.0871 123.911 40.301C126.195 37.515 127.442 34.0231 127.44 30.4205C127.44 28.3772 127.038 26.3539 126.255 24.4664C125.473 22.5788 124.326 20.8642 122.88 19.4205ZM19.42 100.86C16.8725 103.408 15.2872 106.76 14.9342 110.345C14.5813 113.93 15.4826 117.527 17.4844 120.522C19.4863 123.518 22.4649 125.726 25.9127 126.771C29.3604 127.816 33.0638 127.633 36.3918 126.254C39.7198 124.874 42.4664 122.383 44.1635 119.205C45.8606 116.027 46.4032 112.359 45.6988 108.826C44.9944 105.293 43.0866 102.114 40.3006 99.8296C37.5145 97.5455 34.0227 96.2983 30.42 96.3005C26.2938 96.3018 22.337 97.9421 19.42 100.86ZM100.86 100.86C98.3125 103.408 96.7272 106.76 96.3742 110.345C96.0213 113.93 96.9226 117.527 98.9244 120.522C100.926 123.518 103.905 125.726 107.353 126.771C110.8 127.816 114.504 127.633 117.832 126.254C121.16 124.874 123.906 122.383 125.604 119.205C127.301 116.027 127.843 112.359 127.139 108.826C126.434 105.293 124.527 102.114 121.741 99.8296C118.955 97.5455 115.463 96.2983 111.86 96.3005C109.817 96.299 107.793 96.701 105.905 97.4835C104.018 98.2661 102.303 99.4136 100.86 100.86Z\" fill=\"#00AEEF\"/>\n",
       "    </g>\n",
       "    <defs>\n",
       "        <clipPath id=\"clip0_4338_178347\">\n",
       "            <rect width=\"566.93\" height=\"223.75\" fill=\"white\"/>\n",
       "        </clipPath>\n",
       "    </defs>\n",
       "  </svg>\n",
       "</div>\n",
       "\n",
       "        <table class=\"jp-RenderedHTMLCommon\" style=\"border-collapse: collapse;color: var(--jp-ui-font-color1);font-size: var(--jp-ui-font-size1);\">\n",
       "    <tr>\n",
       "        <td style=\"text-align: left\"><b>Python version:</b></td>\n",
       "        <td style=\"text-align: left\"><b>3.11.9</b></td>\n",
       "    </tr>\n",
       "    <tr>\n",
       "        <td style=\"text-align: left\"><b>Ray version:</b></td>\n",
       "        <td style=\"text-align: left\"><b>2.33.0</b></td>\n",
       "    </tr>\n",
       "    <tr>\n",
       "    <td style=\"text-align: left\"><b>Dashboard:</b></td>\n",
       "    <td style=\"text-align: left\"><b><a href=\"http://127.0.0.1:8265\" target=\"_blank\">http://127.0.0.1:8265</a></b></td>\n",
       "</tr>\n",
       "\n",
       "</table>\n",
       "\n",
       "    </div>\n",
       "</div>\n"
      ],
      "text/plain": [
       "RayContext(dashboard_url='127.0.0.1:8265', python_version='3.11.9', ray_version='2.33.0', ray_commit='{{RAY_COMMIT_SHA}}')"
      ]
     },
     "execution_count": 3,
     "metadata": {},
     "output_type": "execute_result"
    }
   ],
   "source": [
    "import ray\n",
    "\n",
    "# Initialize Ray\n",
    "ray.init()\n"
   ]
  },
  {
   "cell_type": "code",
   "execution_count": 8,
   "id": "4e2a8c04-3fd3-4ca9-be8c-443035ba3c41",
   "metadata": {},
   "outputs": [
    {
     "name": "stderr",
     "output_type": "stream",
     "text": [
      "2024-08-30 17:06:25,687\tINFO streaming_executor.py:108 -- Starting execution of Dataset. Full logs are in /tmp/ray/session_2024-08-30_16-50-04_465147_5943/logs/ray-data\n",
      "2024-08-30 17:06:25,688\tINFO streaming_executor.py:109 -- Execution plan of Dataset: InputDataBuffer[Input] -> TaskPoolMapOperator[ReadText]\n"
     ]
    },
    {
     "data": {
      "application/vnd.jupyter.widget-view+json": {
       "model_id": "a9f7fb347f544146b2116a96d3eec7af",
       "version_major": 2,
       "version_minor": 0
      },
      "text/plain": [
       "- ReadText->SplitBlocks(2) 1: 0 bundle [00:00, ? bundle/s]"
      ]
     },
     "metadata": {},
     "output_type": "display_data"
    },
    {
     "data": {
      "application/vnd.jupyter.widget-view+json": {
       "model_id": "d993213b86d94b83b11416fbee8fd067",
       "version_major": 2,
       "version_minor": 0
      },
      "text/plain": [
       "Running 0: 0 bundle [00:00, ? bundle/s]"
      ]
     },
     "metadata": {},
     "output_type": "display_data"
    },
    {
     "name": "stdout",
     "output_type": "stream",
     "text": [
      "28194 documents\n"
     ]
    }
   ],
   "source": [
    "# Create the Ray dataset directly from text files\n",
    "ds = ray.data.read_text([str(path) for path in Path(data_dir).rglob(\"*.html\")])\n",
    "\n",
    "# Print the number of documents\n",
    "print(f\"{ds.count()} documents\")"
   ]
  },
  {
   "cell_type": "code",
   "execution_count": 10,
   "id": "6934a093-15f9-45b0-83a6-90eb4828e865",
   "metadata": {},
   "outputs": [
    {
     "name": "stderr",
     "output_type": "stream",
     "text": [
      "2024-08-30 17:21:20,514\tINFO streaming_executor.py:108 -- Starting execution of Dataset. Full logs are in /tmp/ray/session_2024-08-30_16-50-04_465147_5943/logs/ray-data\n",
      "2024-08-30 17:21:20,515\tINFO streaming_executor.py:109 -- Execution plan of Dataset: InputDataBuffer[Input] -> TaskPoolMapOperator[ReadText] -> LimitOperator[limit=20]\n"
     ]
    },
    {
     "data": {
      "application/vnd.jupyter.widget-view+json": {
       "model_id": "967cd2a0cd864f3c8a435e118f30d816",
       "version_major": 2,
       "version_minor": 0
      },
      "text/plain": [
       "- ReadText->SplitBlocks(2) 1: 0 bundle [00:00, ? bundle/s]"
      ]
     },
     "metadata": {},
     "output_type": "display_data"
    },
    {
     "data": {
      "application/vnd.jupyter.widget-view+json": {
       "model_id": "cfefcaf870b842d8ad0025c273a39de9",
       "version_major": 2,
       "version_minor": 0
      },
      "text/plain": [
       "- limit=20 2: 0 bundle [00:00, ? bundle/s]"
      ]
     },
     "metadata": {},
     "output_type": "display_data"
    },
    {
     "data": {
      "application/vnd.jupyter.widget-view+json": {
       "model_id": "6d2b1aefd08d4b42a4f91c66d2cefa84",
       "version_major": 2,
       "version_minor": 0
      },
      "text/plain": [
       "Running 0: 0 bundle [00:00, ? bundle/s]"
      ]
     },
     "metadata": {},
     "output_type": "display_data"
    },
    {
     "name": "stdout",
     "output_type": "stream",
     "text": [
      "[{'text': '<!DOCTYPE html>'}, {'text': '<html lang=\"en\" xml:lang=\"en\" xmlns=\"http://www.w3.org/1999/xhtml\">'}, {'text': ' <head>'}, {'text': '  <meta charset=\"utf-8\"/>'}, {'text': '  <meta content=\"quarto-1.5.56\" name=\"generator\"/>'}, {'text': '  <meta content=\"width=device-width, initial-scale=1.0, user-scalable=yes\" name=\"viewport\"/>'}, {'text': '  <meta content=\"Learn the foundations of FastHTML by creating your own blogging system from scratch.\" name=\"description\"/>'}, {'text': '  <title>'}, {'text': '   BYO Blog – fasthtml'}, {'text': '  </title>'}, {'text': '  <style>'}, {'text': '   code{white-space: pre-wrap;}'}, {'text': 'span.smallcaps{font-variant: small-caps;}'}, {'text': 'div.columns{display: flex; gap: min(4vw, 1.5em);}'}, {'text': 'div.column{flex: auto; overflow-x: auto;}'}, {'text': 'div.hanging-indent{margin-left: 1.5em; text-indent: -1.5em;}'}, {'text': 'ul.task-list{list-style: none;}'}, {'text': 'ul.task-list li input[type=\"checkbox\"] {'}, {'text': '  width: 0.8em;'}, {'text': '  margin: 0 0.8em 0.2em -1em; /* quarto-specific, see https://github.com/quarto-dev/quarto-cli/issues/4556 */ '}]\n"
     ]
    }
   ],
   "source": [
    "first_rows = ds.take(20)\n",
    "print(first_rows)"
   ]
  },
  {
   "cell_type": "code",
   "execution_count": 11,
   "id": "6f3cae49-59c1-459b-a6ac-b0c417ac7380",
   "metadata": {},
   "outputs": [
    {
     "name": "stderr",
     "output_type": "stream",
     "text": [
      "2024-08-30 17:23:52,537\tINFO streaming_executor.py:108 -- Starting execution of Dataset. Full logs are in /tmp/ray/session_2024-08-30_16-50-04_465147_5943/logs/ray-data\n",
      "2024-08-30 17:23:52,538\tINFO streaming_executor.py:109 -- Execution plan of Dataset: InputDataBuffer[Input] -> TaskPoolMapOperator[ReadText]\n"
     ]
    },
    {
     "data": {
      "application/vnd.jupyter.widget-view+json": {
       "model_id": "9ca22b538345450e82805a298d706e63",
       "version_major": 2,
       "version_minor": 0
      },
      "text/plain": [
       "- ReadText->SplitBlocks(2) 1: 0 bundle [00:00, ? bundle/s]"
      ]
     },
     "metadata": {},
     "output_type": "display_data"
    },
    {
     "data": {
      "application/vnd.jupyter.widget-view+json": {
       "model_id": "a79ae61de00d4d5f901d5f8171578d87",
       "version_major": 2,
       "version_minor": 0
      },
      "text/plain": [
       "Running 0: 0 bundle [00:00, ? bundle/s]"
      ]
     },
     "metadata": {},
     "output_type": "display_data"
    }
   ],
   "source": [
    "df = ds.to_pandas()"
   ]
  },
  {
   "cell_type": "code",
   "execution_count": 12,
   "id": "6a746ca2-084c-42bf-954e-9ba9b0c0a744",
   "metadata": {},
   "outputs": [],
   "source": [
    "# Shutdown Ray\n",
    "ray.shutdown()"
   ]
  },
  {
   "cell_type": "code",
   "execution_count": 18,
   "id": "7d2912ec-389f-41fe-955c-91909778b835",
   "metadata": {},
   "outputs": [
    {
     "data": {
      "text/html": [
       "<div>\n",
       "<style scoped>\n",
       "    .dataframe tbody tr th:only-of-type {\n",
       "        vertical-align: middle;\n",
       "    }\n",
       "\n",
       "    .dataframe tbody tr th {\n",
       "        vertical-align: top;\n",
       "    }\n",
       "\n",
       "    .dataframe thead th {\n",
       "        text-align: right;\n",
       "    }\n",
       "</style>\n",
       "<table border=\"1\" class=\"dataframe\">\n",
       "  <thead>\n",
       "    <tr style=\"text-align: right;\">\n",
       "      <th></th>\n",
       "      <th>text</th>\n",
       "    </tr>\n",
       "  </thead>\n",
       "  <tbody>\n",
       "    <tr>\n",
       "      <th>0</th>\n",
       "      <td>&lt;!DOCTYPE html&gt;</td>\n",
       "    </tr>\n",
       "    <tr>\n",
       "      <th>1</th>\n",
       "      <td>&lt;html lang=\"en\" xml:lang=\"en\" xmlns=\"http://ww...</td>\n",
       "    </tr>\n",
       "    <tr>\n",
       "      <th>2</th>\n",
       "      <td>&lt;head&gt;</td>\n",
       "    </tr>\n",
       "    <tr>\n",
       "      <th>3</th>\n",
       "      <td>&lt;meta charset=\"utf-8\"/&gt;</td>\n",
       "    </tr>\n",
       "    <tr>\n",
       "      <th>4</th>\n",
       "      <td>&lt;meta content=\"quarto-1.5.56\" name=\"generato...</td>\n",
       "    </tr>\n",
       "    <tr>\n",
       "      <th>...</th>\n",
       "      <td>...</td>\n",
       "    </tr>\n",
       "    <tr>\n",
       "      <th>95</th>\n",
       "      <td>\"s\"</td>\n",
       "    </tr>\n",
       "    <tr>\n",
       "      <th>96</th>\n",
       "      <td>],</td>\n",
       "    </tr>\n",
       "    <tr>\n",
       "      <th>97</th>\n",
       "      <td>\"show-item-context\": false,</td>\n",
       "    </tr>\n",
       "    <tr>\n",
       "      <th>98</th>\n",
       "      <td>\"language\": {</td>\n",
       "    </tr>\n",
       "    <tr>\n",
       "      <th>99</th>\n",
       "      <td>\"search-no-results-text\": \"No results\",</td>\n",
       "    </tr>\n",
       "  </tbody>\n",
       "</table>\n",
       "<p>100 rows × 1 columns</p>\n",
       "</div>"
      ],
      "text/plain": [
       "                                                 text\n",
       "0                                     <!DOCTYPE html>\n",
       "1   <html lang=\"en\" xml:lang=\"en\" xmlns=\"http://ww...\n",
       "2                                              <head>\n",
       "3                             <meta charset=\"utf-8\"/>\n",
       "4     <meta content=\"quarto-1.5.56\" name=\"generato...\n",
       "..                                                ...\n",
       "95                                                \"s\"\n",
       "96                                                 ],\n",
       "97                        \"show-item-context\": false,\n",
       "98                                      \"language\": {\n",
       "99            \"search-no-results-text\": \"No results\",\n",
       "\n",
       "[100 rows x 1 columns]"
      ]
     },
     "execution_count": 18,
     "metadata": {},
     "output_type": "execute_result"
    }
   ],
   "source": [
    "df[0:100]"
   ]
  },
  {
   "cell_type": "code",
   "execution_count": 19,
   "id": "7aa7bc73-e480-4e77-b30a-5a047439b879",
   "metadata": {},
   "outputs": [],
   "source": [
    "import requests\n",
    "from bs4 import BeautifulSoup\n",
    "from urllib.parse import urljoin\n",
    "\n",
    "def scrape_website(url, base_url):\n",
    "    response = requests.get(url)\n",
    "    soup = BeautifulSoup(response.text, 'html.parser')\n",
    "    \n",
    "    # Extract text content\n",
    "    content = soup.get_text()\n",
    "    \n",
    "    # Find all links to other pages\n",
    "    links = soup.find_all('a', href=True)\n",
    "    internal_links = [urljoin(base_url, link['href']) for link in links if link['href'].startswith('/') or base_url in link['href']]\n",
    "    \n",
    "    return content, internal_links\n",
    "\n",
    "# Usage\n",
    "base_url = \"https://docs.fastht.ml/\"\n",
    "content, links = scrape_website(base_url, base_url)"
   ]
  },
  {
   "cell_type": "code",
   "execution_count": 20,
   "id": "dc253721-4162-4e59-b67b-64530c3b950a",
   "metadata": {},
   "outputs": [
    {
     "data": {
      "text/plain": [
       "'\\n\\n\\n\\n\\n\\nFastHTML – fasthtml\\n\\n\\n\\n\\n\\n\\n\\n\\n\\n\\n\\n\\n\\n\\n\\n\\n\\n\\n\\n\\n\\n\\n\\n\\n\\n\\n\\n\\n\\n\\n\\n\\n\\n\\n\\n\\n\\n\\n\\n\\n\\n\\n\\n\\nHome\\n\\n\\n\\nLearn\\n\\n\\n\\n\\n \\n\\n\\n\\n\\n \\n\\n\\n\\n\\n \\n\\n\\n \\n\\n\\n\\n\\n\\n\\nGet Started\\n\\n\\n\\n\\n\\n\\n\\n\\n\\n\\n\\n\\n\\n\\nGet Started\\n\\n\\n\\n\\n\\nTutorials\\n\\n\\n\\n\\n\\n\\n\\n\\nFastHTML By Example\\n\\n\\n\\n\\n\\nWeb Devs Quickstart\\n\\n\\n\\n\\n\\nJS App Walkthrough\\n\\n\\n\\n\\n\\nBYO Blog\\n\\n\\n\\n\\n\\n\\n\\nExplanations\\n\\n\\n\\n\\n\\n\\n\\n\\nft Components\\n\\n\\n\\n\\n\\nFAQ\\n\\n\\n\\n\\n\\nOAuth\\n\\n\\n\\n\\n\\nRoutes\\n\\n\\n\\n\\n\\n\\n\\nReference\\n\\n\\n\\n\\n\\n\\n\\n\\nCustom Components\\n\\n\\n\\n\\n\\nLive Reloading\\n\\n\\n\\n\\n\\n\\n\\nSource\\n\\n\\n\\n\\n\\n\\n\\n\\nCore\\n\\n\\n\\n\\n\\nComponents\\n\\n\\n\\n\\n\\nComponent extensions\\n\\n\\n\\n\\n\\nJavascript examples\\n\\n\\n\\n\\n\\nPico.css components\\n\\n\\n\\n\\n\\nOAuth\\n\\n\\n\\n\\n\\nCommand Line Tools\\n\\n\\n\\n\\n\\nfastapp\\n\\n\\n\\n\\n\\n\\n\\n\\n\\n\\n\\nOn this page\\n\\nInstallation\\nUsage\\nNext Steps\\n\\nReport an issueOther FormatsCommonMark\\n\\n\\n\\n\\n\\nFastHTML\\n\\n\\n\\n    The fastest, most powerful way to create an HTML app\\n  \\n\\n\\n\\n\\n\\nWelcome to the official FastHTML documentation.\\nFastHTML is a new next-generation web framework for fast, scalable web applications with minimal, compact code. It’s designed to be:\\n\\nPowerful and expressive enough to build the most advanced, interactive web apps you can imagine.\\nFast and lightweight, so you can write less code and get more done.\\nEasy to learn and use, with a simple, intuitive syntax that makes it easy to build complex apps quickly.\\n\\nFastHTML apps are just Python code, so you can use FastHTML with the full power of the Python language and ecosystem. FastHTML’s functionality maps 1:1 directly to HTML and HTTP, but allows them to be encapsulated using good software engineering practices—so you’ll need to understand these foundations to use this library fully. To understand how and why this works, please read this first: about.fastht.ml.\\n\\nInstallation\\nSince fasthtml is a Python library, you can install it with:\\npip install python-fasthtml\\nIn the near future, we hope to add component libraries that can likewise be installed via pip.\\n\\n\\nUsage\\nFor a minimal app, create a file “main.py” as follows:\\n\\n\\nmain.py\\n\\nfrom fasthtml.common import *\\n\\napp,rt = fast_app()\\n\\n@rt(\\'/\\')\\ndef get(): return Div(P(\\'Hello World!\\'), hx_get=\"/change\")\\n\\nserve()\\n\\nRunning the app with python main.py prints out a link to your running app: http://localhost:5001. Visit that link in your browser and you should see a page with the text “Hello World!”. Congratulations, you’ve just created your first FastHTML app!\\nAdding interactivity is surprisingly easy, thanks to HTMX. Modify the file to add this function:\\n\\n\\nmain.py\\n\\n@rt(\\'/change\\')\\ndef get(): return P(\\'Nice to be here!\\')\\n\\nYou now have a page with a clickable element that changes the text when clicked. When clicking on this link, the server will respond with an “HTML partial”—that is, just a snippet of HTML which will be inserted into the existing page. In this case, the returned element will replace the original P element (since that’s the default behavior of HTMX) with the new version returned by the second route.\\nThis “hypermedia-based” approach to web development is a powerful way to build web applications.\\n\\n\\nNext Steps\\nStart with the official sources to learn more about FastHTML:\\n\\nAbout: Learn about the core ideas behind FastHTML\\nDocumentation: Learn from examples how to write FastHTML code\\nIdiomatic app: Heavily commented source code walking through a complete application, including custom authentication, JS library connections, and database use.\\n\\nWe also have a 1-hour intro video:\\n\\nThe capabilities of FastHTML are vast and growing, and not all the features and patterns have been documented yet. Be prepared to invest time into studying and modifying source code, such as the main FastHTML repo’s notebooks and the official FastHTML examples repo:\\n\\nFastHTML Examples Repo on GitHub\\nFastHTML Repo on GitHub\\n\\nThen explore the small but growing third-party ecosystem of FastHTML tutorials, notebooks, libraries, and components:\\n\\nFastHTML Gallery: Learn from minimal examples of components (ie chat bubbles, click-to-edit, infinite scroll, etc)\\nCreating Custom FastHTML Tags for Markdown Rendering by Isaac Flath\\nYour tutorial here!\\n\\nFinally, join the FastHTML community to ask questions, share your work, and learn from others:\\n\\nDiscord\\n\\n\\n \\n\\n \\nReport an issue'"
      ]
     },
     "execution_count": 20,
     "metadata": {},
     "output_type": "execute_result"
    }
   ],
   "source": [
    "content"
   ]
  },
  {
   "cell_type": "code",
   "execution_count": null,
   "id": "318e8cfa-be05-444a-8841-2d69fdfa641f",
   "metadata": {},
   "outputs": [],
   "source": [
    "import logging\n",
    "import os\n",
    "import time\n",
    "from urllib.parse import urlparse\n",
    "from getpass import getpass\n",
    "\n",
    "import treq\n",
    "from scrapy.crawler import CrawlerProcess\n",
    "from scrapy.linkextractors import LinkExtractor\n",
    "from scrapy.spiders import CrawlSpider, Rule\n",
    "from slugify import slugify\n",
    "\n",
    "DOCS_URL = \"https://docs.fastht.ml/\"\n",
    "logger = logging.getLogger(__name__)\n",
    "\n",
    "os.environ['JINA_API_KEY'] = getpass('Enter your JINA API Key: ')\n",
    "\n",
    "def urljoin(*args):\n",
    "  \"\"\"\n",
    "  Joins given arguments into an url. Trailing but not leading slashes are\n",
    "  stripped for each argument.\n",
    "  \"\"\"\n",
    "\n",
    "  return \"/\".join(map(lambda x: str(x).rstrip('/'), args))\n",
    "\n",
    "class MarkdownPipeline:\n",
    "\n",
    "  def create_directory_from_url_with_slug(self, url):\n",
    "    parsed_url = urlparse(url)\n",
    "    path_segments = parsed_url.path.strip('/').split('/')\n",
    "    directory_path = './docs/' + self.collection\n",
    "    for segment in path_segments[:-1]:\n",
    "      directory_path = os.path.join(directory_path, segment)\n",
    "      os.makedirs(directory_path, exist_ok=True)\n",
    "    filename = slugify(path_segments[-1])\n",
    "    return os.path.join(directory_path, filename)\n",
    "\n",
    "  def open_spider(self, spider):\n",
    "    self.collection = spider.domain.title().replace('.', '')\n",
    "    os.makedirs(f'./docs/{self.collection}', exist_ok=True)\n",
    "\n",
    "  async def process_item(self, item, spider):\n",
    "    response = await treq.get('https://r.jina.ai/' + item.get('url'),\n",
    "                              headers={\n",
    "                                  'Content-Type':\n",
    "                                  'text/plain',\n",
    "                                  \"Authorization\":\n",
    "                                  f\"Bearer {os.environ['JINA_API_KEY']}\"\n",
    "                              })\n",
    "\n",
    "    content = await response.text()\n",
    "    url = item.get('url')\n",
    "\n",
    "    directory = self.create_directory_from_url_with_slug(url)\n",
    "\n",
    "    with open(directory + '.md', 'w') as f:\n",
    "      f.write(content)\n",
    "\n",
    "    return item\n",
    "\n",
    "  def close_spider(self, spider):\n",
    "    self.client.close()\n",
    "\n",
    "\n",
    "class PagingIncremental(CrawlSpider):\n",
    "  name = \"docs\"\n",
    "  custom_settings = {\n",
    "      'DOWNLOAD_DELAY': '0',\n",
    "      'FEED_EXPORT_ENCODING': 'utf-8',\n",
    "      'DEPTH_LIMIT': '0',\n",
    "      'AUTOTHROTTLE_ENABLED': 'True',\n",
    "      'AUTOTHROTTLE_START_DELAY': '1',\n",
    "      'AUTOTHROTTLE_MAX_DELAY': '3',\n",
    "      \"AUTOTHROTTLE_TARGET_CONCURRENCY\": '1'\n",
    "  }\n",
    "  rules = (Rule(LinkExtractor(allow=r\"\"), callback='parse', follow=True), )\n",
    "\n",
    "  def __init__(self, url, *args, **kwargs):\n",
    "    super().__init__(*args, **kwargs)\n",
    "    # Visit all found sublinks\n",
    "    print(url)\n",
    "    self.domain = urlparse(url).hostname\n",
    "    self.domain_name = self.domain.split('.')[1]\n",
    "    self.allowed_domains = [self.domain]\n",
    "\n",
    "    self.start_urls = [url]\n",
    "\n",
    "  def parse(self, response):\n",
    "\n",
    "    item = {}\n",
    "    item[\"url\"] = response.url\n",
    "    time.sleep(.1)\n",
    "    yield item\n",
    "\n",
    "\n",
    "def process_docs(url):\n",
    "  process = CrawlerProcess({\n",
    "      'USER_AGENT': 'Mozilla/5.0',\n",
    "      'ITEM_PIPELINES': {\n",
    "          '__main__.MarkdownPipeline': 1,\n",
    "      },\n",
    "  })\n",
    "    \n",
    "  process.crawl(PagingIncremental, url=url)\n",
    "  process.start(stop_after_crawl=True)\n",
    "\n",
    "\n",
    "if __name__ == \"__main__\":\n",
    "  process_docs(DOCS_URL)"
   ]
  }
 ],
 "metadata": {
  "kernelspec": {
   "display_name": "Python 3 (ipykernel)",
   "language": "python",
   "name": "python3"
  },
  "language_info": {
   "codemirror_mode": {
    "name": "ipython",
    "version": 3
   },
   "file_extension": ".py",
   "mimetype": "text/x-python",
   "name": "python",
   "nbconvert_exporter": "python",
   "pygments_lexer": "ipython3",
   "version": "3.11.9"
  }
 },
 "nbformat": 4,
 "nbformat_minor": 5
}
