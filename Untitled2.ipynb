{
 "cells": [
  {
   "cell_type": "code",
   "execution_count": 1,
   "id": "0f62efd8-f0ef-4540-b7c9-c94cfe867066",
   "metadata": {},
   "outputs": [],
   "source": [
    "import os\n",
    "import re\n",
    "from typing import List, Dict # Provides type hints for better code readability and error checking\n",
    "from pathlib import Path\n",
    "import json\n",
    "import psutil\n",
    "import GPUtil\n",
    "\n",
    "from bs4 import BeautifulSoup, NavigableString\n",
    "import mistune # A fast markdown parser\n",
    "from lxml import etree # provides efficient XML and HTML parsing\n",
    " \n",
    "import ray\n",
    "from functools import partial # allows partial function application\n",
    "import matplotlib.pyplot as plt\n",
    "\n",
    "from langchain.text_splitter import RecursiveCharacterTextSplitter # splits text into chunks\n",
    "from langchain_openai import OpenAIEmbeddings\n",
    "from langchain_huggingface import HuggingFaceEmbeddings\n",
    "from langchain_core.documents import Document\n",
    "from langchain_chroma import Chroma\n",
    "\n",
    "#import sys; sys.path.append(\"..\")\n",
    "#import warnings; warnings.filterwarnings(\"ignore\")\n",
    "from dotenv import load_dotenv; load_dotenv()\n",
    "%load_ext autoreload\n",
    "%autoreload 2\n",
    "\n",
    "from rag.config import ROOT_DIR, EFS_DIR"
   ]
  },
  {
   "cell_type": "code",
   "execution_count": 2,
   "id": "e5da700c-f837-48a4-86cb-cef09e668b57",
   "metadata": {},
   "outputs": [
    {
     "name": "stderr",
     "output_type": "stream",
     "text": [
      "2024-09-07 19:14:42,934\tINFO worker.py:1772 -- Started a local Ray instance. View the dashboard at \u001b[1m\u001b[32mhttp://127.0.0.1:8265 \u001b[39m\u001b[22m\n",
      "2024-09-07 19:14:43,024\tINFO packaging.py:530 -- Creating a file package for local directory '/home/amrit/data-projects/llms/fasthtml-docs-bot'.\n",
      "2024-09-07 19:14:43,068\tINFO packaging.py:358 -- Pushing file package 'gcs://_ray_pkg_fc0385913e723334.zip' (2.49MiB) to Ray cluster...\n",
      "2024-09-07 19:14:43,097\tINFO packaging.py:371 -- Successfully pushed file package 'gcs://_ray_pkg_fc0385913e723334.zip'.\n"
     ]
    }
   ],
   "source": [
    "# Credentials\n",
    "def init_ray():\n",
    "    ray.init(\n",
    "        runtime_env={\n",
    "            \"env_vars\": {\n",
    "                \"OPENAI_API_BASE\": os.environ[\"OPENAI_API_BASE\"],\n",
    "                \"OPENAI_API_KEY\": os.environ[\"OPENAI_API_KEY\"], \n",
    "                \"ANYSCALE_API_BASE\": os.environ[\"ANYSCALE_API_BASE\"],\n",
    "                \"ANYSCALE_API_KEY\": os.environ[\"ANYSCALE_API_KEY\"],\n",
    "                \"DB_CONNECTION_STRING\": os.environ[\"DB_CONNECTION_STRING\"],\n",
    "            },\n",
    "            \"working_dir\": str(ROOT_DIR)\n",
    "        },\n",
    "        ignore_reinit_error=True,\n",
    "        num_cpus=8,  # Specify the number of CPU cores\n",
    "        num_gpus=1,  # Specify the number of GPUs\n",
    "        _system_config={\n",
    "            \"agent_manager_retry_interval_ms\": 2000,\n",
    "        }\n",
    "    )\n",
    "\n",
    "init_ray()"
   ]
  },
  {
   "cell_type": "code",
   "execution_count": 3,
   "id": "ada457fa-3bdc-4929-927d-d53c28f20430",
   "metadata": {},
   "outputs": [
    {
     "data": {
      "text/plain": [
       "{'object_store_memory': 1849304678.0,\n",
       " 'memory': 3698609358.0,\n",
       " 'GPU': 1.0,\n",
       " 'node:__internal_head__': 1.0,\n",
       " 'node:172.30.185.52': 1.0,\n",
       " 'accelerator_type:G': 1.0,\n",
       " 'CPU': 8.0}"
      ]
     },
     "execution_count": 3,
     "metadata": {},
     "output_type": "execute_result"
    }
   ],
   "source": [
    "ray.cluster_resources()\n",
    "#ray.shutdown()"
   ]
  },
  {
   "cell_type": "code",
   "execution_count": 4,
   "id": "b76d6848-f532-45af-bf39-35e7c50c0d4b",
   "metadata": {},
   "outputs": [
    {
     "name": "stdout",
     "output_type": "stream",
     "text": [
      "18 documents\n"
     ]
    }
   ],
   "source": [
    "# Create Ray dataset\n",
    "DOCS_DIR = Path(EFS_DIR, \"raw-data/\")\n",
    "ds = ray.data.from_items([{\"path\": path} for path in DOCS_DIR.rglob(\"*.html\") if not path.is_dir()])\n",
    "print(f\"{ds.count()} documents\")"
   ]
  },
  {
   "cell_type": "code",
   "execution_count": 5,
   "id": "76b0b76f-6688-4892-9b8c-f8a641138a94",
   "metadata": {},
   "outputs": [
    {
     "name": "stderr",
     "output_type": "stream",
     "text": [
      "2024-09-07 19:15:05,819\tINFO dataset.py:2416 -- Tip: Use `take_batch()` instead of `take() / show()` to return records in pandas or numpy batch format.\n",
      "2024-09-07 19:15:05,830\tINFO streaming_executor.py:108 -- Starting execution of Dataset. Full logs are in /tmp/ray/session_2024-09-07_19-14-36_785161_6306/logs/ray-data\n",
      "2024-09-07 19:15:05,832\tINFO streaming_executor.py:109 -- Execution plan of Dataset: InputDataBuffer[Input] -> LimitOperator[limit=3]\n"
     ]
    },
    {
     "data": {
      "application/vnd.jupyter.widget-view+json": {
       "model_id": "9e3a9d6dc3f347e0a31ab183fd3dc056",
       "version_major": 2,
       "version_minor": 0
      },
      "text/plain": [
       "- limit=3 1: 0 bundle [00:00, ? bundle/s]"
      ]
     },
     "metadata": {},
     "output_type": "display_data"
    },
    {
     "data": {
      "application/vnd.jupyter.widget-view+json": {
       "model_id": "7783ad49e22f4e22984023867f358971",
       "version_major": 2,
       "version_minor": 0
      },
      "text/plain": [
       "Running 0: 0 bundle [00:00, ? bundle/s]"
      ]
     },
     "metadata": {},
     "output_type": "display_data"
    },
    {
     "name": "stdout",
     "output_type": "stream",
     "text": [
      "{'path': PosixPath('/data/raw-data/tutorial_for_web_devs.html')}\n",
      "{'path': PosixPath('/data/raw-data/oauth.html')}\n",
      "{'path': PosixPath('/data/raw-data/e2e.html')}\n"
     ]
    }
   ],
   "source": [
    "ds.show(3)"
   ]
  },
  {
   "cell_type": "code",
   "execution_count": 6,
   "id": "f4fb44aa-4dfc-4d59-b6f9-b9c42e47792d",
   "metadata": {},
   "outputs": [],
   "source": [
    "# Document Processing\n",
    "def extract_sections(record):\n",
    "    with open(record[\"path\"], \"r\", encoding=\"utf-8\") as html_file:\n",
    "        soup = BeautifulSoup(html_file, \"html.parser\")\n",
    "\n",
    "    sections = soup.find_all(\"section\")\n",
    "    section_list = []\n",
    "    for section in sections:\n",
    "        section_id = section.get(\"id\")\n",
    "        section_text = extract_text_from_section(section)\n",
    "        if section_id:\n",
    "            uri = path_to_uri(path=record[\"path\"])\n",
    "            section_list.append({\"source\": f\"{uri}#{section_id}\", \"text\": section_text})\n",
    "    return section_list\n",
    "\n",
    "def extract_text_from_section(section):\n",
    "    texts = []\n",
    "    for elem in section.children:\n",
    "        if isinstance(elem, NavigableString):\n",
    "            if elem.strip():\n",
    "                texts.append(elem.strip())\n",
    "        elif elem.name == 'section':\n",
    "            continue\n",
    "        else:\n",
    "            texts.append(elem.get_text().strip())\n",
    "    return \"\\n\".join(texts)\n",
    "\n",
    "def path_to_uri(path, scheme=\"https://\", domain=\"docs.fastht.ml\"):\n",
    "    return scheme + domain + str(path).split(\"raw-data\")[-1]"
   ]
  },
  {
   "cell_type": "code",
   "execution_count": 7,
   "id": "4ed5a3e7-aeed-454f-9780-19ed6445d9c4",
   "metadata": {},
   "outputs": [
    {
     "name": "stderr",
     "output_type": "stream",
     "text": [
      "2024-09-07 19:15:30,348\tINFO streaming_executor.py:108 -- Starting execution of Dataset. Full logs are in /tmp/ray/session_2024-09-07_19-14-36_785161_6306/logs/ray-data\n",
      "2024-09-07 19:15:30,350\tINFO streaming_executor.py:109 -- Execution plan of Dataset: InputDataBuffer[Input] -> TaskPoolMapOperator[FlatMap(<lambda>)]\n"
     ]
    },
    {
     "data": {
      "application/vnd.jupyter.widget-view+json": {
       "model_id": "11880659ae7244f6a91dcf85baa7d306",
       "version_major": 2,
       "version_minor": 0
      },
      "text/plain": [
       "- FlatMap(<lambda>) 1: 0 bundle [00:00, ? bundle/s]"
      ]
     },
     "metadata": {},
     "output_type": "display_data"
    },
    {
     "data": {
      "application/vnd.jupyter.widget-view+json": {
       "model_id": "e9b470fc06a045218b158a894d7a376b",
       "version_major": 2,
       "version_minor": 0
      },
      "text/plain": [
       "Running 0: 0 bundle [00:00, ? bundle/s]"
      ]
     },
     "metadata": {},
     "output_type": "display_data"
    },
    {
     "data": {
      "text/plain": [
       "180"
      ]
     },
     "execution_count": 7,
     "metadata": {},
     "output_type": "execute_result"
    }
   ],
   "source": [
    "sections_ds = ds.flat_map(lambda record: extract_sections(record))\n",
    "sections_ds.count()"
   ]
  },
  {
   "cell_type": "code",
   "execution_count": 13,
   "id": "0ae44247-8701-44da-b426-7fa8af28999f",
   "metadata": {},
   "outputs": [
    {
     "name": "stderr",
     "output_type": "stream",
     "text": [
      "2024-09-07 20:01:14,808\tINFO streaming_executor.py:108 -- Starting execution of Dataset. Full logs are in /tmp/ray/session_2024-09-07_19-14-36_785161_6306/logs/ray-data\n",
      "2024-09-07 20:01:14,809\tINFO streaming_executor.py:109 -- Execution plan of Dataset: InputDataBuffer[Input] -> TaskPoolMapOperator[FlatMap(<lambda>)] -> LimitOperator[limit=1]\n"
     ]
    },
    {
     "data": {
      "application/vnd.jupyter.widget-view+json": {
       "model_id": "ea519640b85b4b98b6c1a8c9de2cbe26",
       "version_major": 2,
       "version_minor": 0
      },
      "text/plain": [
       "- FlatMap(<lambda>) 1: 0 bundle [00:00, ? bundle/s]"
      ]
     },
     "metadata": {},
     "output_type": "display_data"
    },
    {
     "data": {
      "application/vnd.jupyter.widget-view+json": {
       "model_id": "aaffcd93c21845ce94ed75c0ea4b3801",
       "version_major": 2,
       "version_minor": 0
      },
      "text/plain": [
       "- limit=1 2: 0 bundle [00:00, ? bundle/s]"
      ]
     },
     "metadata": {},
     "output_type": "display_data"
    },
    {
     "data": {
      "application/vnd.jupyter.widget-view+json": {
       "model_id": "6bf21e9f57c245459cb0dbc28c4e08b2",
       "version_major": 2,
       "version_minor": 0
      },
      "text/plain": [
       "Running 0: 0 bundle [00:00, ? bundle/s]"
      ]
     },
     "metadata": {},
     "output_type": "display_data"
    },
    {
     "name": "stdout",
     "output_type": "stream",
     "text": [
      "{'source': 'https://docs.fastht.ml/tutorial_for_web_devs.html#how-to-best-use-this-tutorial', 'text': 'How to best use this tutorial\\nWe could copy/paste every code example in sequence and have a finished blog at the end. However, it’s debatable how much we will learn through the copy/paste method. We’re not saying its impossible to learn through copy/paste, we’re just saying it’s not that of an efficient way to learn. It’s analogous to learning how to play a musical instrument or sport or video game by watching other people do it - you can learn some but its not the same as doing.\\nA better approach is to type out every line of code in this tutorial. This forces us to run the code through our brains, giving us actual practice in how to write FastHTML and Pythoncode and forcing us to debug our own mistakes. In some cases we’ll repeat similar tasks - a key component in achieving mastery in anything. Coming back to the instrument/sport/video game analogy, it’s exactly like actually practicing an instrument, sport, or video game. Through practice and repetition we eventually achieve mastery.'}\n"
     ]
    }
   ],
   "source": [
    "sections_ds.show(1)"
   ]
  },
  {
   "cell_type": "code",
   "execution_count": 8,
   "id": "ed68d0c2-2dd4-4289-abd9-5aca38487aab",
   "metadata": {},
   "outputs": [
    {
     "name": "stderr",
     "output_type": "stream",
     "text": [
      "2024-09-06 23:41:30,349\tINFO streaming_executor.py:108 -- Starting execution of Dataset. Full logs are in /tmp/ray/session_2024-09-06_23-41-17_803887_108730/logs/ray-data\n",
      "2024-09-06 23:41:30,350\tINFO streaming_executor.py:109 -- Execution plan of Dataset: InputDataBuffer[Input] -> TaskPoolMapOperator[FlatMap(<lambda>)]\n"
     ]
    },
    {
     "data": {
      "application/vnd.jupyter.widget-view+json": {
       "model_id": "a34396fe816b447c93580ef05adb9036",
       "version_major": 2,
       "version_minor": 0
      },
      "text/plain": [
       "- FlatMap(<lambda>) 1: 0 bundle [00:00, ? bundle/s]"
      ]
     },
     "metadata": {},
     "output_type": "display_data"
    },
    {
     "data": {
      "application/vnd.jupyter.widget-view+json": {
       "model_id": "3965cf8bfa4341799e2a3ba4a9c8ef89",
       "version_major": 2,
       "version_minor": 0
      },
      "text/plain": [
       "Running 0: 0 bundle [00:00, ? bundle/s]"
      ]
     },
     "metadata": {},
     "output_type": "display_data"
    },
    {
     "data": {
      "image/png": "[encoded data removed]",
      "text/plain": [
       "<Figure size 1200x300 with 1 Axes>"
      ]
     },
     "metadata": {},
     "output_type": "display_data"
    }
   ],
   "source": [
    "# Plot Section Lengths\n",
    "section_lengths = []\n",
    "for section in sections_ds.take_all():\n",
    "    section_lengths.append(len(section[\"text\"]))\n",
    "\n",
    "plt.figure(figsize=(12,3))\n",
    "plt.plot(section_lengths, marker='o')\n",
    "plt.title(\"Section lengths\")\n",
    "plt.ylabel(\"# chars\")\n",
    "plt.show()"
   ]
  },
  {
   "cell_type": "code",
   "execution_count": 9,
   "id": "12e05ab7-990a-46db-8702-9941d6b113ff",
   "metadata": {},
   "outputs": [],
   "source": [
    "# Chunk Data\n",
    "chunk_size = 500\n",
    "chunk_overlap = 50\n",
    "\n",
    "def chunk_section(section, chunk_size, chunk_overlap):\n",
    "    text_splitter = RecursiveCharacterTextSplitter(\n",
    "        separators=[\"\\n\\n\", \"\\n\", \" \", \"\"],\n",
    "        chunk_size=chunk_size,\n",
    "        chunk_overlap=chunk_overlap,\n",
    "        length_function=len\n",
    "    )\n",
    "    chunks = text_splitter.create_documents(\n",
    "        texts=[section[\"text\"]],\n",
    "        metadatas=[{\"source\": section[\"source\"]}]\n",
    "    )\n",
    "    return [{\"text\": chunk.page_content, \"source\": chunk.metadata[\"source\"]} for chunk in chunks]\n",
    "\n",
    "chunks_ds = sections_ds.flat_map(partial(\n",
    "    chunk_section,\n",
    "    chunk_size=chunk_size,\n",
    "    chunk_overlap=chunk_overlap\n",
    "))"
   ]
  },
  {
   "cell_type": "code",
   "execution_count": 10,
   "id": "7a881d4d-4ca8-433d-b7cc-09878386fcb9",
   "metadata": {},
   "outputs": [
    {
     "name": "stderr",
     "output_type": "stream",
     "text": [
      "2024-09-06 23:41:31,005\tINFO streaming_executor.py:108 -- Starting execution of Dataset. Full logs are in /tmp/ray/session_2024-09-06_23-41-17_803887_108730/logs/ray-data\n",
      "2024-09-06 23:41:31,006\tINFO streaming_executor.py:109 -- Execution plan of Dataset: InputDataBuffer[Input] -> TaskPoolMapOperator[FlatMap(<lambda>)->FlatMap(partial)]\n"
     ]
    },
    {
     "data": {
      "application/vnd.jupyter.widget-view+json": {
       "model_id": "9c5a5c9201544edbb9f5dedbba9d7e40",
       "version_major": 2,
       "version_minor": 0
      },
      "text/plain": [
       "- FlatMap(<lambda>)->FlatMap(partial) 1: 0 bundle [00:00, ? bundle/s]"
      ]
     },
     "metadata": {},
     "output_type": "display_data"
    },
    {
     "data": {
      "application/vnd.jupyter.widget-view+json": {
       "model_id": "dc458d1f8a1145ceaae393be8d4f99c5",
       "version_major": 2,
       "version_minor": 0
      },
      "text/plain": [
       "Running 0: 0 bundle [00:00, ? bundle/s]"
      ]
     },
     "metadata": {},
     "output_type": "display_data"
    },
    {
     "name": "stderr",
     "output_type": "stream",
     "text": [
      "2024-09-06 23:41:32,079\tINFO streaming_executor.py:108 -- Starting execution of Dataset. Full logs are in /tmp/ray/session_2024-09-06_23-41-17_803887_108730/logs/ray-data\n",
      "2024-09-06 23:41:32,080\tINFO streaming_executor.py:109 -- Execution plan of Dataset: InputDataBuffer[Input] -> TaskPoolMapOperator[FlatMap(<lambda>)->FlatMap(partial)] -> LimitOperator[limit=1]\n"
     ]
    },
    {
     "name": "stdout",
     "output_type": "stream",
     "text": [
      "537 chunks\n"
     ]
    },
    {
     "data": {
      "application/vnd.jupyter.widget-view+json": {
       "model_id": "8d2d882158984a529b157de708c369fe",
       "version_major": 2,
       "version_minor": 0
      },
      "text/plain": [
       "- FlatMap(<lambda>)->FlatMap(partial) 1: 0 bundle [00:00, ? bundle/s]"
      ]
     },
     "metadata": {},
     "output_type": "display_data"
    },
    {
     "data": {
      "application/vnd.jupyter.widget-view+json": {
       "model_id": "11b1e154cec04cc4ad00fc7759a602b6",
       "version_major": 2,
       "version_minor": 0
      },
      "text/plain": [
       "- limit=1 2: 0 bundle [00:00, ? bundle/s]"
      ]
     },
     "metadata": {},
     "output_type": "display_data"
    },
    {
     "data": {
      "application/vnd.jupyter.widget-view+json": {
       "model_id": "4a4e70c953544032bbe8cb5c9ebf3259",
       "version_major": 2,
       "version_minor": 0
      },
      "text/plain": [
       "Running 0: 0 bundle [00:00, ? bundle/s]"
      ]
     },
     "metadata": {},
     "output_type": "display_data"
    },
    {
     "name": "stdout",
     "output_type": "stream",
     "text": [
      "{'text': 'How to best use this tutorial\\nWe could copy/paste every code example in sequence and have a finished blog at the end. However, it’s debatable how much we will learn through the copy/paste method. We’re not saying its impossible to learn through copy/paste, we’re just saying it’s not that of an efficient way to learn. It’s analogous to learning how to play a musical instrument or sport or video game by watching other people do it - you can learn some but its not the same as doing.', 'source': 'https://docs.fastht.ml/tutorial_for_web_devs.html#how-to-best-use-this-tutorial'}\n"
     ]
    }
   ],
   "source": [
    "print(f\"{chunks_ds.count()} chunks\")\n",
    "chunks_ds.show(1)"
   ]
  },
  {
   "cell_type": "code",
   "execution_count": 11,
   "id": "8772ec86-1f86-4cee-9a61-68957b50d376",
   "metadata": {},
   "outputs": [
    {
     "name": "stderr",
     "output_type": "stream",
     "text": [
      "2024-09-06 23:41:32,350\tINFO streaming_executor.py:108 -- Starting execution of Dataset. Full logs are in /tmp/ray/session_2024-09-06_23-41-17_803887_108730/logs/ray-data\n",
      "2024-09-06 23:41:32,351\tINFO streaming_executor.py:109 -- Execution plan of Dataset: InputDataBuffer[Input] -> TaskPoolMapOperator[FlatMap(<lambda>)->FlatMap(partial)] -> LimitOperator[limit=2]\n"
     ]
    },
    {
     "data": {
      "application/vnd.jupyter.widget-view+json": {
       "model_id": "f776bc7821be42589ede87643eff3a67",
       "version_major": 2,
       "version_minor": 0
      },
      "text/plain": [
       "- FlatMap(<lambda>)->FlatMap(partial) 1: 0 bundle [00:00, ? bundle/s]"
      ]
     },
     "metadata": {},
     "output_type": "display_data"
    },
    {
     "data": {
      "application/vnd.jupyter.widget-view+json": {
       "model_id": "be4d8fd0f845481c8d03f42da021dcf4",
       "version_major": 2,
       "version_minor": 0
      },
      "text/plain": [
       "- limit=2 2: 0 bundle [00:00, ? bundle/s]"
      ]
     },
     "metadata": {},
     "output_type": "display_data"
    },
    {
     "data": {
      "application/vnd.jupyter.widget-view+json": {
       "model_id": "b409bf026d964f92a6bfdaf377999839",
       "version_major": 2,
       "version_minor": 0
      },
      "text/plain": [
       "Running 0: 0 bundle [00:00, ? bundle/s]"
      ]
     },
     "metadata": {},
     "output_type": "display_data"
    },
    {
     "name": "stdout",
     "output_type": "stream",
     "text": [
      "{'text': 'How to best use this tutorial\\nWe could copy/paste every code example in sequence and have a finished blog at the end. However, it’s debatable how much we will learn through the copy/paste method. We’re not saying its impossible to learn through copy/paste, we’re just saying it’s not that of an efficient way to learn. It’s analogous to learning how to play a musical instrument or sport or video game by watching other people do it - you can learn some but its not the same as doing.', 'source': 'https://docs.fastht.ml/tutorial_for_web_devs.html#how-to-best-use-this-tutorial'}\n",
      "{'text': 'A better approach is to type out every line of code in this tutorial. This forces us to run the code through our brains, giving us actual practice in how to write FastHTML and Pythoncode and forcing us to debug our own mistakes. In some cases we’ll repeat similar tasks - a key component in achieving mastery in anything. Coming back to the instrument/sport/video game analogy, it’s exactly like actually practicing an instrument, sport, or video game. Through practice and repetition we eventually', 'source': 'https://docs.fastht.ml/tutorial_for_web_devs.html#how-to-best-use-this-tutorial'}\n"
     ]
    }
   ],
   "source": [
    "chunks_ds.show(2)"
   ]
  },
  {
   "cell_type": "markdown",
   "id": "70068934-ac1c-46b2-8062-01492955e18c",
   "metadata": {},
   "source": [
    "### Embed data"
   ]
  },
  {
   "cell_type": "code",
   "execution_count": 12,
   "id": "1bdee96d-4e51-4950-ba46-d41892730f2c",
   "metadata": {},
   "outputs": [],
   "source": [
    "from langchain_openai import OpenAIEmbeddings\n",
    "from langchain_huggingface import HuggingFaceEmbeddings\n",
    "import numpy as np\n",
    "from ray.data import ActorPoolStrategy"
   ]
  },
  {
   "cell_type": "code",
   "execution_count": 13,
   "id": "813a73f8-bfbf-4af3-9c2b-f2321ff6f7dd",
   "metadata": {},
   "outputs": [],
   "source": [
    "# get_embedding_model: Returns an embedding model based on the specified model name.\n",
    "# OpenAIEmbeddings: Uses OpenAI’s API for embedding.\n",
    "# HuggingFaceEmbeddings: Uses Hugging Face’s models for embedding.\n",
    "\n",
    "def get_embedding_model(embedding_model_name, model_kwargs, encode_kwargs):\n",
    "    if embedding_model_name == \"text-embedding-ada-002\":\n",
    "        embedding_model = OpenAIEmbeddings(\n",
    "            model = embedding_model_name,\n",
    "            openai_api_base = os.environ[\"OPENAI_API_BASE\"],\n",
    "            openai_api_key = os.environ[\"OPENAI_API_KEY\"]\n",
    "        )\n",
    "    else:\n",
    "        embedding_model = HuggingFaceEmbeddings(\n",
    "            model_name = embedding_model_name, # also works with model_path\n",
    "            model_kwargs = model_kwargs,\n",
    "            encode_kwargs = encode_kwargs\n",
    "        )\n",
    "    return embedding_model"
   ]
  },
  {
   "cell_type": "code",
   "execution_count": 14,
   "id": "2213b44a-5b8e-4d33-af62-a45aed2f9909",
   "metadata": {},
   "outputs": [],
   "source": [
    "# EmbedChunks: A class to embed chunks using the specified model.\n",
    "# init: Initializes the embedding model.\n",
    "# call: Embeds the text in the batch and returns the embeddings along with the original text and source.\n",
    "\n",
    "class EmbedChunks:\n",
    "    def __init__(self, model_name):\n",
    "        self.embedding_model = get_embedding_model(\n",
    "            embedding_model_name = model_name,\n",
    "            model_kwargs = {\"device\": \"cuda\"},\n",
    "            encode_kwargs = {\"device\": \"cuda\", \"batch_size\": 100}\n",
    "        )\n",
    "\n",
    "    def __call__(self, batch):\n",
    "        embeddings = self.embedding_model.embed_documents(batch[\"text\"])\n",
    "        return {\"text\": batch[\"text\"], \"source\": batch[\"source\"], \"embeddings\": embeddings}"
   ]
  },
  {
   "cell_type": "code",
   "execution_count": 15,
   "id": "facf0c15-c22b-480d-bc8e-2c4a0c754532",
   "metadata": {},
   "outputs": [],
   "source": [
    "# embedding_model_name: Specifies the embedding model to use.\n",
    "# embedded_chunks: Uses Ray’s map_batches to apply the EmbedChunks class to each batch of chunks.\n",
    "# fn_constructor_kwargs: Passes the model name to the EmbedChunks class.\n",
    "# batch_size: Sets the batch size for processing.\n",
    "# num_gpus: Specifies the number of GPUs to use.\n",
    "# compute: Uses ActorPoolStrategy for parallel processing.\n",
    "\n",
    "embedding_model_name = \"thenlper/gte-base\"\n",
    "embedded_chunks = chunks_ds.map_batches(\n",
    "    EmbedChunks,\n",
    "    fn_constructor_kwargs = {\"model_name\": embedding_model_name},\n",
    "    batch_size = 100,\n",
    "    num_gpus = 1,\n",
    "    concurrency = 1\n",
    ")"
   ]
  },
  {
   "cell_type": "code",
   "execution_count": 16,
   "id": "4536fb72-6a94-480d-b26c-3e17950fc414",
   "metadata": {
    "scrolled": true
   },
   "outputs": [
    {
     "name": "stderr",
     "output_type": "stream",
     "text": [
      "2024-09-06 23:41:32,751\tINFO streaming_executor.py:108 -- Starting execution of Dataset. Full logs are in /tmp/ray/session_2024-09-06_23-41-17_803887_108730/logs/ray-data\n",
      "2024-09-06 23:41:32,751\tINFO streaming_executor.py:109 -- Execution plan of Dataset: InputDataBuffer[Input] -> TaskPoolMapOperator[FlatMap(<lambda>)->FlatMap(partial)] -> ActorPoolMapOperator[MapBatches(EmbedChunks)] -> LimitOperator[limit=1]\n"
     ]
    },
    {
     "data": {
      "application/vnd.jupyter.widget-view+json": {
       "model_id": "8857689e87e74cab9bbb5724f17e8fa0",
       "version_major": 2,
       "version_minor": 0
      },
      "text/plain": [
       "- FlatMap(<lambda>)->FlatMap(partial) 1: 0 bundle [00:00, ? bundle/s]"
      ]
     },
     "metadata": {},
     "output_type": "display_data"
    },
    {
     "data": {
      "application/vnd.jupyter.widget-view+json": {
       "model_id": "e012eb282b80440ead2b831bfd1064c0",
       "version_major": 2,
       "version_minor": 0
      },
      "text/plain": [
       "- MapBatches(EmbedChunks) 2: 0 bundle [00:00, ? bundle/s]"
      ]
     },
     "metadata": {},
     "output_type": "display_data"
    },
    {
     "data": {
      "application/vnd.jupyter.widget-view+json": {
       "model_id": "b5f3996e371e4ba88407584f69c10481",
       "version_major": 2,
       "version_minor": 0
      },
      "text/plain": [
       "- limit=1 3: 0 bundle [00:00, ? bundle/s]"
      ]
     },
     "metadata": {},
     "output_type": "display_data"
    },
    {
     "data": {
      "application/vnd.jupyter.widget-view+json": {
       "model_id": "adec866d067d417b9a32c1de2656ffdf",
       "version_major": 2,
       "version_minor": 0
      },
      "text/plain": [
       "Running 0: 0 bundle [00:00, ? bundle/s]"
      ]
     },
     "metadata": {},
     "output_type": "display_data"
    },
    {
     "name": "stdout",
     "output_type": "stream",
     "text": [
      "embedding size: 768\n",
      "How to best use this tutorial\n",
      "We could copy/paste every code example in sequence and have a finished blog at the end. However, it’s debatable how much we will learn through the copy/paste method. We’re not saying its impossible to learn through copy/paste, we’re just saying it’s not that of an efficient way to learn. It’s analogous to learning how to play a musical instrument or sport or video game by watching other people do it - you can learn some but its not the same as doing.\n"
     ]
    }
   ],
   "source": [
    "# Sample\n",
    "sample = embedded_chunks.take(1)\n",
    "print (\"embedding size:\", len(sample[0][\"embeddings\"]))\n",
    "print (sample[0][\"text\"])"
   ]
  },
  {
   "cell_type": "code",
   "execution_count": 17,
   "id": "7cf9a790-3e00-4f79-968d-d4f71ad3aca5",
   "metadata": {},
   "outputs": [
    {
     "name": "stdout",
     "output_type": "stream",
     "text": [
      "CUDA available: True\n"
     ]
    }
   ],
   "source": [
    "# verify if cuda available\n",
    "import torch\n",
    "print(\"CUDA available:\", torch.cuda.is_available())"
   ]
  },
  {
   "cell_type": "markdown",
   "id": "d9132f5e-1425-404d-8036-6f3133726395",
   "metadata": {},
   "source": [
    "### Vector Store"
   ]
  },
  {
   "cell_type": "code",
   "execution_count": 18,
   "id": "85704905-a200-4762-811b-6a3c53db8860",
   "metadata": {},
   "outputs": [],
   "source": [
    "from langchain_core.documents import Document\n",
    "from langchain_chroma import Chroma\n",
    "import json"
   ]
  },
  {
   "cell_type": "code",
   "execution_count": 19,
   "id": "40f2db4f-00f6-4dde-91cd-e0de38837b3d",
   "metadata": {},
   "outputs": [],
   "source": [
    "# Initialize the Chroma vector store\n",
    "embedding_model = get_embedding_model(\n",
    "            embedding_model_name = embedding_model_name,\n",
    "            model_kwargs = {\"device\": \"cpu\"},\n",
    "            encode_kwargs = {\"device\": \"cpu\", \"batch_size\": 100}\n",
    "        )"
   ]
  },
  {
   "cell_type": "code",
   "execution_count": 20,
   "id": "4e4855a5-5f09-42b2-abfb-ac36569f2b19",
   "metadata": {},
   "outputs": [],
   "source": [
    "## Monitoring: Add some print statements to monitor progress and resource usage:\n",
    "\n",
    "import psutil\n",
    "import GPUtil\n",
    "\n",
    "def print_resource_usage():\n",
    "    cpu_percent = psutil.cpu_percent()\n",
    "    mem_percent = psutil.virtual_memory().percent\n",
    "    gpus = GPUtil.getGPUs()\n",
    "    gpu_util = gpus[0].load * 100 if gpus else 0\n",
    "    print(f\"CPU: {cpu_percent}%, Memory: {mem_percent}%, GPU: {gpu_util}%\")"
   ]
  },
  {
   "cell_type": "code",
   "execution_count": 21,
   "id": "4091add5-4dcb-4869-8134-5ab2ce9f325b",
   "metadata": {},
   "outputs": [],
   "source": [
    "class StoreResults:\n",
    "    def __init__(self):\n",
    "        self.processed = 0\n",
    "        self.vector_store = Chroma(\n",
    "            collection_name=\"fasthtml_docs\",\n",
    "            embedding_function=embedding_model,\n",
    "            persist_directory=os.path.abspath(Path(EFS_DIR, \"fasthtml_docs_db\").cwd())\n",
    "        )\n",
    "        \n",
    "    def __call__(self, batch):\n",
    "        documents = []\n",
    "        for item in batch:\n",
    "            try:\n",
    "                # Try to parse the item as JSON\n",
    "                item_dict = json.loads(item)\n",
    "                documents.append(Document(\n",
    "                    page_content=item_dict.get(\"text\", \"\"),\n",
    "                    metadata={\"source\": item_dict.get(\"source\", \"\")}\n",
    "                ))\n",
    "            except json.JSONDecodeError:\n",
    "                # If it's not JSON, treat the whole item as text\n",
    "                documents.append(Document(\n",
    "                    page_content=item,\n",
    "                    metadata={\"source\": \"unknown\"}\n",
    "                ))\n",
    "        \n",
    "        if documents:\n",
    "            self.vector_store.add_documents(documents)\n",
    "            \n",
    "        self.processed += len(documents)\n",
    "        print(f\"Processed {self.processed} documents so far\")\n",
    "        print_resource_usage()\n",
    "        \n",
    "        return {}"
   ]
  },
  {
   "cell_type": "code",
   "execution_count": 22,
   "id": "2be70ce5-bb70-4088-b692-036535862c9b",
   "metadata": {},
   "outputs": [
    {
     "name": "stderr",
     "output_type": "stream",
     "text": [
      "2024-09-06 23:41:54,166\tINFO streaming_executor.py:108 -- Starting execution of Dataset. Full logs are in /tmp/ray/session_2024-09-06_23-41-17_803887_108730/logs/ray-data\n",
      "2024-09-06 23:41:54,167\tINFO streaming_executor.py:109 -- Execution plan of Dataset: InputDataBuffer[Input] -> TaskPoolMapOperator[FlatMap(<lambda>)->FlatMap(partial)] -> ActorPoolMapOperator[MapBatches(EmbedChunks)] -> ActorPoolMapOperator[MapBatches(StoreResults)]\n"
     ]
    },
    {
     "data": {
      "application/vnd.jupyter.widget-view+json": {
       "model_id": "57eff96f557646ee9ea3bd064384d627",
       "version_major": 2,
       "version_minor": 0
      },
      "text/plain": [
       "- FlatMap(<lambda>)->FlatMap(partial) 1: 0 bundle [00:00, ? bundle/s]"
      ]
     },
     "metadata": {},
     "output_type": "display_data"
    },
    {
     "data": {
      "application/vnd.jupyter.widget-view+json": {
       "model_id": "a20aef7c72b34f0ebabe38370696b3c0",
       "version_major": 2,
       "version_minor": 0
      },
      "text/plain": [
       "- MapBatches(EmbedChunks) 2: 0 bundle [00:00, ? bundle/s]"
      ]
     },
     "metadata": {},
     "output_type": "display_data"
    },
    {
     "data": {
      "application/vnd.jupyter.widget-view+json": {
       "model_id": "795ef73b2bfd4a58a7057c0c06fb6449",
       "version_major": 2,
       "version_minor": 0
      },
      "text/plain": [
       "- MapBatches(StoreResults) 3: 0 bundle [00:00, ? bundle/s]"
      ]
     },
     "metadata": {},
     "output_type": "display_data"
    },
    {
     "data": {
      "application/vnd.jupyter.widget-view+json": {
       "model_id": "64b87cce80124bbab9a377ce7fe1011a",
       "version_major": 2,
       "version_minor": 0
      },
      "text/plain": [
       "Running 0: 0 bundle [00:00, ? bundle/s]"
      ]
     },
     "metadata": {},
     "output_type": "display_data"
    },
    {
     "data": {
      "application/vnd.jupyter.widget-view+json": {
       "model_id": "ad808747db5b43589ae6f7228f61ab66",
       "version_major": 2,
       "version_minor": 0
      },
      "text/plain": [
       "MaterializedDataset(num_blocks=6, num_rows=0, schema=Unknown schema)"
      ]
     },
     "execution_count": 22,
     "metadata": {},
     "output_type": "execute_result"
    }
   ],
   "source": [
    "# Index data\n",
    "#embedded_chunks = embedded_chunks.repartition(16)  # Adjust the number based on your data size and available resources\n",
    "embedded_chunks.map_batches(\n",
    "    StoreResults,\n",
    "    batch_size=128,\n",
    "    num_cpus=4,\n",
    "    concurrency=1,\n",
    ").materialize()"
   ]
  },
  {
   "cell_type": "code",
   "execution_count": 23,
   "id": "71855fcb-d1fd-4086-a066-8f586489a352",
   "metadata": {},
   "outputs": [],
   "source": [
    "# Initialize Chroma client\n",
    "persist_directory = os.path.abspath(Path(EFS_DIR, \"fasthtml_docs_db\").cwd())\n",
    "\n",
    "vectorstore = Chroma(\n",
    "    collection_name=\"fasthtml_docs\",\n",
    "    embedding_function=embedding_model,\n",
    "    persist_directory=persist_directory\n",
    ")"
   ]
  },
  {
   "cell_type": "code",
   "execution_count": 24,
   "id": "65f299e6-da5c-4034-8d4c-d00ddc85fe11",
   "metadata": {},
   "outputs": [
    {
     "name": "stdout",
     "output_type": "stream",
     "text": [
      "Number of documents in the collection: 0\n",
      "Sample documents: {'ids': [], 'embeddings': None, 'metadatas': [], 'documents': []}\n"
     ]
    }
   ],
   "source": [
    "# Check the number of documents in the collection\n",
    "print(f\"Number of documents in the collection: {vectorstore._collection.count()}\")\n",
    "\n",
    "# Retrieve a sample of documents\n",
    "sample_docs = vectorstore.get(limit=5)\n",
    "print(f\"Sample documents: {sample_docs}\")"
   ]
  },
  {
   "cell_type": "code",
   "execution_count": 25,
   "id": "e45b7f79-7a20-4dec-a702-ee0c8d5a9389",
   "metadata": {},
   "outputs": [],
   "source": [
    "import numpy as np\n",
    "\n",
    "\n",
    "# Assuming you've already initialized these variables\n",
    "embedding_model_name = \"thenlper/gte-base\"\n",
    "persist_directory = os.path.abspath(Path(EFS_DIR, \"fasthtml_docs_db\").cwd())\n",
    "\n",
    "# Initialize the embedding model\n",
    "embedding_model = HuggingFaceEmbeddings(model_name=embedding_model_name)\n",
    "\n",
    "# Initialize Chroma client\n",
    "vectorstore = Chroma(\n",
    "    collection_name=\"fasthtml_docs\",\n",
    "    embedding_function=embedding_model,\n",
    "    persist_directory=persist_directory\n",
    ")\n",
    "\n",
    "# Function to perform semantic search\n",
    "def semantic_search(vectorstore, query: str, k: int = 5):\n",
    "    # Perform the search\n",
    "    results = vectorstore.similarity_search_with_score(query, k=k)\n",
    "    \n",
    "    # Process the results\n",
    "    semantic_context = []\n",
    "    for doc, score in results:\n",
    "        semantic_context.append({\n",
    "            \"text\": doc.page_content,\n",
    "            \"source\": doc.metadata.get(\"source\", \"\"),\n",
    "            \"score\": score\n",
    "        })\n",
    "    \n",
    "    return semantic_context\n"
   ]
  },
  {
   "cell_type": "code",
   "execution_count": 26,
   "id": "f2bc9e73-8450-45f5-9352-ee9d5aaa7cc0",
   "metadata": {},
   "outputs": [],
   "source": [
    "# Example usage\n",
    "query = \"how to install fasthtml?\"\n",
    "search_results = semantic_search(vectorstore, query, k=5)\n",
    "\n",
    "# Print the results\n",
    "for i, item in enumerate(search_results):\n",
    "    print(f\"Result {i+1}:\")\n",
    "    print(f\"Score: {item['score']}\")\n",
    "    print(f\"Source: {item['source']}\")\n",
    "    print(f\"Text: {item['text']}\")\n",
    "    print()"
   ]
  },
  {
   "cell_type": "code",
   "execution_count": 27,
   "id": "0b1de387-f47a-4857-b14b-1c84df1133f8",
   "metadata": {},
   "outputs": [
    {
     "ename": "IndexError",
     "evalue": "list index out of range",
     "output_type": "error",
     "traceback": [
      "\u001b[0;31m---------------------------------------------------------------------------\u001b[0m",
      "\u001b[0;31mIndexError\u001b[0m                                Traceback (most recent call last)",
      "Cell \u001b[0;32mIn[27], line 2\u001b[0m\n\u001b[1;32m      1\u001b[0m \u001b[38;5;66;03m# Get the dimension of the embeddings\u001b[39;00m\n\u001b[0;32m----> 2\u001b[0m embedding_dim \u001b[38;5;241m=\u001b[39m \u001b[38;5;28mlen\u001b[39m(\u001b[43mvectorstore\u001b[49m\u001b[38;5;241;43m.\u001b[39;49m\u001b[43m_collection\u001b[49m\u001b[38;5;241;43m.\u001b[39;49m\u001b[43mpeek\u001b[49m\u001b[43m(\u001b[49m\u001b[43m)\u001b[49m\u001b[43m[\u001b[49m\u001b[38;5;124;43m'\u001b[39;49m\u001b[38;5;124;43membeddings\u001b[39;49m\u001b[38;5;124;43m'\u001b[39;49m\u001b[43m]\u001b[49m\u001b[43m[\u001b[49m\u001b[38;5;241;43m0\u001b[39;49m\u001b[43m]\u001b[49m)\n\u001b[1;32m      3\u001b[0m \u001b[38;5;28mprint\u001b[39m(\u001b[38;5;124mf\u001b[39m\u001b[38;5;124m\"\u001b[39m\u001b[38;5;124mEmbedding dimension: \u001b[39m\u001b[38;5;132;01m{\u001b[39;00membedding_dim\u001b[38;5;132;01m}\u001b[39;00m\u001b[38;5;124m\"\u001b[39m)\n",
      "\u001b[0;31mIndexError\u001b[0m: list index out of range"
     ]
    }
   ],
   "source": [
    "# Get the dimension of the embeddings\n",
    "embedding_dim = len(vectorstore._collection.peek()['embeddings'][0])\n",
    "print(f\"Embedding dimension: {embedding_dim}\")"
   ]
  },
  {
   "cell_type": "code",
   "execution_count": null,
   "id": "1e47f045-0451-4fb6-a6c6-52b58dba9e66",
   "metadata": {},
   "outputs": [],
   "source": []
  }
 ],
 "metadata": {
  "kernelspec": {
   "display_name": "Python 3 (ipykernel)",
   "language": "python",
   "name": "python3"
  },
  "language_info": {
   "codemirror_mode": {
    "name": "ipython",
    "version": 3
   },
   "file_extension": ".py",
   "mimetype": "text/x-python",
   "name": "python",
   "nbconvert_exporter": "python",
   "pygments_lexer": "ipython3",
   "version": "3.11.9"
  }
 },
 "nbformat": 4,
 "nbformat_minor": 5
}
